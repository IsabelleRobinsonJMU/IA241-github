{
 "cells": [
  {
   "cell_type": "code",
   "execution_count": null,
   "id": "057cbde1",
   "metadata": {},
   "outputs": [],
   "source": [
    "from urllib import request\n",
    "import json\n",
    "import xlwt\n",
    "census_api_key = 39b6b220ea9f6cf78e6f9c9228d528ea51e8c3c2\n",
    "\n",
    "\n",
    "url_str = 'https://api.census.gov/data/2016/acs/acs5?get=B00001_001E,B02001_002E,NAME&for=county:*&in=state:51&key='+39b6b220ea9f6cf78e6f9c9228d528ea51e8c3c2 \n",
    "url_str = 'https://api.census.gov/data/2016/acs/acs5?get=B01001_001E,B01001_002E,NAME&for=county:*&in=state:51&key='+39b6b220ea9f6cf78e6f9c9228d528ea51e8c3c2\n",
    "\n",
    "response = request.urlopen(url_str) \n",
    "\n",
    "book = xlwt.Workbook() \n",
    "sheet_test = book.add_sheet('test')\n",
    "html_str = response.read().decode(\"utf-8\") \n",
    "i = 0 \n",
    "if (html_str):\n",
    "    json_data = json.loads(html_str) \n",
    "    for row in json_data:\n",
    "        cl1, cl2, cl3, cl4,cl5 =row\n",
    " \n",
    "        sheet_test.write(i,0,cl1)\n",
    "        sheet_test.write(i,1,cl2)\n",
    "        sheet_test.write(i,2,cl3)\n",
    "        sheet_test.write(i,3,cl4)\n",
    "        sheet_test.write(i,4,cl5)\n",
    "        i = i+1\n",
    "          \n",
    "book.save()"
   ]
  }
 ],
 "metadata": {
  "kernelspec": {
   "display_name": "conda_python3",
   "language": "python",
   "name": "conda_python3"
  },
  "language_info": {
   "codemirror_mode": {
    "name": "ipython",
    "version": 3
   },
   "file_extension": ".py",
   "mimetype": "text/x-python",
   "name": "python",
   "nbconvert_exporter": "python",
   "pygments_lexer": "ipython3",
   "version": "3.6.13"
  }
 },
 "nbformat": 4,
 "nbformat_minor": 5
}
