{
 "cells": [
  {
   "cell_type": "markdown",
   "id": "545fdad5",
   "metadata": {},
   "source": [
    "# Analyzing Taiwan's COVID-19 Data in Python Data Source"
   ]
  },
  {
   "cell_type": "markdown",
   "id": "cefc7891",
   "metadata": {},
   "source": [
    "# Author's Information"
   ]
  },
  {
   "cell_type": "markdown",
   "id": "d1a6cace",
   "metadata": {},
   "source": [
    "The author, Isabelle Robinson, is a sophomore in the JMU Intelligence Analysis program with a minor in Criminal Justice."
   ]
  },
  {
   "cell_type": "markdown",
   "id": "5b62cf45",
   "metadata": {},
   "source": [
    "# Background on COVID-19"
   ]
  },
  {
   "cell_type": "markdown",
   "id": "c8638999",
   "metadata": {},
   "source": [
    "The COVID-19 strain that originated in Wuhan, China is a variation of a strain of the coronavirus that was previously unseen in humans until [December 12, 2019](https://www.cdc.gov/museum/timeline/covid19.html#Early-2020.). The strain rapidly spread throughout the world, and by March 11, 2020, the World Health Organization (WHO) declared COVID-19 a pandemic. There have been roughly 6.2 million COVID-19 deaths world-wide, and the variation from nation to nation was highly reliant on each nation's response time and capacity."
   ]
  },
  {
   "cell_type": "markdown",
   "id": "7852d50a",
   "metadata": {},
   "source": [
    "# Data Source"
   ]
  },
  {
   "cell_type": "markdown",
   "id": "be3ac696",
   "metadata": {},
   "source": [
    "The data is downloaded from the [European Centre for Disease Prevention and Control](https://www.ecdc.europa.eu/en/publications-data/download-todays-data-geographic-distribution-covid-19-cases-worldwide.)."
   ]
  },
  {
   "cell_type": "code",
   "execution_count": 1,
   "id": "5cc6ca3a",
   "metadata": {},
   "outputs": [],
   "source": [
    "%matplotlib inline\n",
    "import pandas "
   ]
  },
  {
   "cell_type": "markdown",
   "id": "729d0517",
   "metadata": {},
   "source": [
    "# Taiwan's COVID-19 Response"
   ]
  },
  {
   "cell_type": "markdown",
   "id": "46fa2424",
   "metadata": {},
   "source": [
    "Taiwan had become increasingly nervous of COVID-19 since December 31, 2019. This is largely because of the [previous SARS outbreaks](https://tools.cdc.gov/podcasts/media/pdf/EID_07-20_COVID19_Taiwan.pdf.) that occurred within the region that caused 37 deaths in Taiwan. Taiwan preemptively began screening for COVID-19 before flights where passengers from Wuhan were coming into Taiwan, which resulted in the travel advisory to raise higher to combat the risk of outside infection. Additionally, Taiwan's universal health care made it easy and affordable for citizens to be tested and treated as soon as possible. Taiwan also provided a [$2.9 billion stimulus](https://www.cdc.gov.tw/en.) in order to stimulate their internal economy to prevent as much communicable spreading as possible. "
   ]
  },
  {
   "cell_type": "markdown",
   "id": "ecb9c749",
   "metadata": {},
   "source": [
    "# Taiwan's COVID-19 Data Sample"
   ]
  },
  {
   "cell_type": "code",
   "execution_count": 3,
   "id": "ddf00da1",
   "metadata": {},
   "outputs": [],
   "source": [
    "df = pandas.read_excel('s3://isabellerobinsonsbucket-ia241/covid_data.xls') "
   ]
  },
  {
   "cell_type": "code",
   "execution_count": 4,
   "id": "476ee66e",
   "metadata": {},
   "outputs": [
    {
     "data": {
      "text/html": [
       "<div>\n",
       "<style scoped>\n",
       "    .dataframe tbody tr th:only-of-type {\n",
       "        vertical-align: middle;\n",
       "    }\n",
       "\n",
       "    .dataframe tbody tr th {\n",
       "        vertical-align: top;\n",
       "    }\n",
       "\n",
       "    .dataframe thead th {\n",
       "        text-align: right;\n",
       "    }\n",
       "</style>\n",
       "<table border=\"1\" class=\"dataframe\">\n",
       "  <thead>\n",
       "    <tr style=\"text-align: right;\">\n",
       "      <th></th>\n",
       "      <th>dateRep</th>\n",
       "      <th>day</th>\n",
       "      <th>month</th>\n",
       "      <th>year</th>\n",
       "      <th>cases</th>\n",
       "      <th>deaths</th>\n",
       "      <th>countriesAndTerritories</th>\n",
       "      <th>geoId</th>\n",
       "      <th>countryterritoryCode</th>\n",
       "      <th>popData2019</th>\n",
       "      <th>continentExp</th>\n",
       "      <th>Cumulative_number_for_14_days_of_COVID-19_cases_per_100000</th>\n",
       "    </tr>\n",
       "  </thead>\n",
       "  <tbody>\n",
       "    <tr>\n",
       "      <th>54926</th>\n",
       "      <td>14/12/2020</td>\n",
       "      <td>14</td>\n",
       "      <td>12</td>\n",
       "      <td>2020</td>\n",
       "      <td>4</td>\n",
       "      <td>0</td>\n",
       "      <td>Taiwan</td>\n",
       "      <td>TW</td>\n",
       "      <td>CNG1925</td>\n",
       "      <td>23773881.0</td>\n",
       "      <td>Asia</td>\n",
       "      <td>0.273409</td>\n",
       "    </tr>\n",
       "    <tr>\n",
       "      <th>54927</th>\n",
       "      <td>13/12/2020</td>\n",
       "      <td>13</td>\n",
       "      <td>12</td>\n",
       "      <td>2020</td>\n",
       "      <td>3</td>\n",
       "      <td>0</td>\n",
       "      <td>Taiwan</td>\n",
       "      <td>TW</td>\n",
       "      <td>CNG1925</td>\n",
       "      <td>23773881.0</td>\n",
       "      <td>Asia</td>\n",
       "      <td>0.357535</td>\n",
       "    </tr>\n",
       "    <tr>\n",
       "      <th>54928</th>\n",
       "      <td>2020-12-12 00:00:00</td>\n",
       "      <td>12</td>\n",
       "      <td>12</td>\n",
       "      <td>2020</td>\n",
       "      <td>8</td>\n",
       "      <td>0</td>\n",
       "      <td>Taiwan</td>\n",
       "      <td>TW</td>\n",
       "      <td>CNG1925</td>\n",
       "      <td>23773881.0</td>\n",
       "      <td>Asia</td>\n",
       "      <td>0.357535</td>\n",
       "    </tr>\n",
       "    <tr>\n",
       "      <th>54929</th>\n",
       "      <td>2020-11-12 00:00:00</td>\n",
       "      <td>11</td>\n",
       "      <td>12</td>\n",
       "      <td>2020</td>\n",
       "      <td>1</td>\n",
       "      <td>0</td>\n",
       "      <td>Taiwan</td>\n",
       "      <td>TW</td>\n",
       "      <td>CNG1925</td>\n",
       "      <td>23773881.0</td>\n",
       "      <td>Asia</td>\n",
       "      <td>0.361742</td>\n",
       "    </tr>\n",
       "    <tr>\n",
       "      <th>54930</th>\n",
       "      <td>2020-10-12 00:00:00</td>\n",
       "      <td>10</td>\n",
       "      <td>12</td>\n",
       "      <td>2020</td>\n",
       "      <td>4</td>\n",
       "      <td>0</td>\n",
       "      <td>Taiwan</td>\n",
       "      <td>TW</td>\n",
       "      <td>CNG1925</td>\n",
       "      <td>23773881.0</td>\n",
       "      <td>Asia</td>\n",
       "      <td>0.416423</td>\n",
       "    </tr>\n",
       "    <tr>\n",
       "      <th>54931</th>\n",
       "      <td>2020-09-12 00:00:00</td>\n",
       "      <td>9</td>\n",
       "      <td>12</td>\n",
       "      <td>2020</td>\n",
       "      <td>2</td>\n",
       "      <td>0</td>\n",
       "      <td>Taiwan</td>\n",
       "      <td>TW</td>\n",
       "      <td>CNG1925</td>\n",
       "      <td>23773881.0</td>\n",
       "      <td>Asia</td>\n",
       "      <td>0.408011</td>\n",
       "    </tr>\n",
       "    <tr>\n",
       "      <th>54932</th>\n",
       "      <td>2020-08-12 00:00:00</td>\n",
       "      <td>8</td>\n",
       "      <td>12</td>\n",
       "      <td>2020</td>\n",
       "      <td>2</td>\n",
       "      <td>0</td>\n",
       "      <td>Taiwan</td>\n",
       "      <td>TW</td>\n",
       "      <td>CNG1925</td>\n",
       "      <td>23773881.0</td>\n",
       "      <td>Asia</td>\n",
       "      <td>0.420630</td>\n",
       "    </tr>\n",
       "    <tr>\n",
       "      <th>54933</th>\n",
       "      <td>2020-07-12 00:00:00</td>\n",
       "      <td>7</td>\n",
       "      <td>12</td>\n",
       "      <td>2020</td>\n",
       "      <td>0</td>\n",
       "      <td>0</td>\n",
       "      <td>Taiwan</td>\n",
       "      <td>TW</td>\n",
       "      <td>CNG1925</td>\n",
       "      <td>23773881.0</td>\n",
       "      <td>Asia</td>\n",
       "      <td>0.412217</td>\n",
       "    </tr>\n",
       "    <tr>\n",
       "      <th>54934</th>\n",
       "      <td>2020-06-12 00:00:00</td>\n",
       "      <td>6</td>\n",
       "      <td>12</td>\n",
       "      <td>2020</td>\n",
       "      <td>23</td>\n",
       "      <td>0</td>\n",
       "      <td>Taiwan</td>\n",
       "      <td>TW</td>\n",
       "      <td>CNG1925</td>\n",
       "      <td>23773881.0</td>\n",
       "      <td>Asia</td>\n",
       "      <td>0.416423</td>\n",
       "    </tr>\n",
       "    <tr>\n",
       "      <th>54935</th>\n",
       "      <td>2020-05-12 00:00:00</td>\n",
       "      <td>5</td>\n",
       "      <td>12</td>\n",
       "      <td>2020</td>\n",
       "      <td>3</td>\n",
       "      <td>0</td>\n",
       "      <td>Taiwan</td>\n",
       "      <td>TW</td>\n",
       "      <td>CNG1925</td>\n",
       "      <td>23773881.0</td>\n",
       "      <td>Asia</td>\n",
       "      <td>0.344916</td>\n",
       "    </tr>\n",
       "  </tbody>\n",
       "</table>\n",
       "</div>"
      ],
      "text/plain": [
       "                   dateRep  day  month  year  cases  deaths  \\\n",
       "54926           14/12/2020   14     12  2020      4       0   \n",
       "54927           13/12/2020   13     12  2020      3       0   \n",
       "54928  2020-12-12 00:00:00   12     12  2020      8       0   \n",
       "54929  2020-11-12 00:00:00   11     12  2020      1       0   \n",
       "54930  2020-10-12 00:00:00   10     12  2020      4       0   \n",
       "54931  2020-09-12 00:00:00    9     12  2020      2       0   \n",
       "54932  2020-08-12 00:00:00    8     12  2020      2       0   \n",
       "54933  2020-07-12 00:00:00    7     12  2020      0       0   \n",
       "54934  2020-06-12 00:00:00    6     12  2020     23       0   \n",
       "54935  2020-05-12 00:00:00    5     12  2020      3       0   \n",
       "\n",
       "      countriesAndTerritories geoId countryterritoryCode  popData2019  \\\n",
       "54926                  Taiwan    TW              CNG1925   23773881.0   \n",
       "54927                  Taiwan    TW              CNG1925   23773881.0   \n",
       "54928                  Taiwan    TW              CNG1925   23773881.0   \n",
       "54929                  Taiwan    TW              CNG1925   23773881.0   \n",
       "54930                  Taiwan    TW              CNG1925   23773881.0   \n",
       "54931                  Taiwan    TW              CNG1925   23773881.0   \n",
       "54932                  Taiwan    TW              CNG1925   23773881.0   \n",
       "54933                  Taiwan    TW              CNG1925   23773881.0   \n",
       "54934                  Taiwan    TW              CNG1925   23773881.0   \n",
       "54935                  Taiwan    TW              CNG1925   23773881.0   \n",
       "\n",
       "      continentExp  Cumulative_number_for_14_days_of_COVID-19_cases_per_100000  \n",
       "54926         Asia                                           0.273409           \n",
       "54927         Asia                                           0.357535           \n",
       "54928         Asia                                           0.357535           \n",
       "54929         Asia                                           0.361742           \n",
       "54930         Asia                                           0.416423           \n",
       "54931         Asia                                           0.408011           \n",
       "54932         Asia                                           0.420630           \n",
       "54933         Asia                                           0.412217           \n",
       "54934         Asia                                           0.416423           \n",
       "54935         Asia                                           0.344916           "
      ]
     },
     "execution_count": 4,
     "metadata": {},
     "output_type": "execute_result"
    }
   ],
   "source": [
    "tw_data = df.loc[ df['countriesAndTerritories']=='Taiwan' ]\n",
    "tw_data[:10]"
   ]
  },
  {
   "cell_type": "markdown",
   "id": "3c9a6718",
   "metadata": {},
   "source": [
    "# The Sum of COVID-19 Cases in Taiwan as of December 2020"
   ]
  },
  {
   "cell_type": "code",
   "execution_count": 5,
   "id": "84e80dd5",
   "metadata": {},
   "outputs": [
    {
     "data": {
      "text/plain": [
       "740"
      ]
     },
     "execution_count": 5,
     "metadata": {},
     "output_type": "execute_result"
    }
   ],
   "source": [
    "tw_data.sum()['cases']"
   ]
  },
  {
   "cell_type": "markdown",
   "id": "261ee7fb",
   "metadata": {},
   "source": [
    "There were 740 confirmed COVID-19 cases as of December 2020. "
   ]
  },
  {
   "cell_type": "markdown",
   "id": "18a21065",
   "metadata": {},
   "source": [
    "# Trend of COVID-19 Cases in Taiwan as of December 2020"
   ]
  },
  {
   "cell_type": "code",
   "execution_count": 7,
   "id": "5089a2ab",
   "metadata": {},
   "outputs": [],
   "source": [
    "sum_cases_per_month = tw_data.groupby('month').sum()['cases']"
   ]
  },
  {
   "cell_type": "code",
   "execution_count": 8,
   "id": "57ac597d",
   "metadata": {},
   "outputs": [
    {
     "data": {
      "text/plain": [
       "<AxesSubplot:xlabel='month'>"
      ]
     },
     "execution_count": 8,
     "metadata": {},
     "output_type": "execute_result"
    },
    {
     "data": {
      "image/png": "[encoded data removed]",
      "text/plain": [
       "<Figure size 432x288 with 1 Axes>"
      ]
     },
     "metadata": {
      "needs_background": "light"
     },
     "output_type": "display_data"
    }
   ],
   "source": [
    "sum_cases_per_month.plot.bar()"
   ]
  },
  {
   "cell_type": "markdown",
   "id": "a49abd92",
   "metadata": {},
   "source": [
    "The month with the highest number of COVID-19 cases in Taiwan was the third month, which had over 250 COVID-19 cases. The month with the lowest number of COVID-19 cases was the sixth month, which had well under fifty cases."
   ]
  },
  {
   "cell_type": "code",
   "execution_count": 9,
   "id": "fd25ee9a",
   "metadata": {},
   "outputs": [
    {
     "name": "stdout",
     "output_type": "stream",
     "text": [
      "month\n",
      "1       9\n",
      "2      30\n",
      "3     267\n",
      "4     123\n",
      "5      13\n",
      "6       5\n",
      "7      20\n",
      "8      21\n",
      "9      26\n",
      "10     41\n",
      "11    120\n",
      "12     65\n",
      "Name: cases, dtype: int64\n"
     ]
    }
   ],
   "source": [
    "print(sum_cases_per_month)"
   ]
  },
  {
   "cell_type": "markdown",
   "id": "653c3381",
   "metadata": {},
   "source": [
    "When the data is broken down, the exact number of cases per month reveals that the third month had 267 cases, and the sixth month only had 5 cases. While Taiwan's COVID-19 rates have remained relatively low throughout the data, there was a resurgence in late 2020. However, the resurgence only rose to less than half of the highest confirmed COVID-19 outbreak. "
   ]
  },
  {
   "cell_type": "markdown",
   "id": "06ca6207",
   "metadata": {},
   "source": [
    "# The Sum of COVID-19 Deaths in Taiwan as of December 2020"
   ]
  },
  {
   "cell_type": "code",
   "execution_count": 11,
   "id": "df8a8cee",
   "metadata": {},
   "outputs": [
    {
     "data": {
      "text/plain": [
       "7"
      ]
     },
     "execution_count": 11,
     "metadata": {},
     "output_type": "execute_result"
    }
   ],
   "source": [
    "tw_data.sum()['deaths']"
   ]
  },
  {
   "cell_type": "markdown",
   "id": "54fbbd9b",
   "metadata": {},
   "source": [
    "Of the 740 confirmed COVID-19 cases in Taiwan, there were only 7 deaths. This can be credited to Taiwan's quick reaction towards COVID-19, which included increases in internal, economic, medical, and border security that protected their nation from excess rates of COVID-19 cases and deaths. "
   ]
  },
  {
   "cell_type": "markdown",
   "id": "77ecdce3",
   "metadata": {},
   "source": [
    "# Trend of COVID-19 Deaths in Taiwan as of December 2020"
   ]
  },
  {
   "cell_type": "code",
   "execution_count": 12,
   "id": "c92df52e",
   "metadata": {},
   "outputs": [],
   "source": [
    "sum_deaths_per_month = tw_data.groupby('month').sum()['deaths']"
   ]
  },
  {
   "cell_type": "code",
   "execution_count": 25,
   "id": "3630b4a1",
   "metadata": {},
   "outputs": [
    {
     "data": {
      "text/plain": [
       "<AxesSubplot:xlabel='month'>"
      ]
     },
     "execution_count": 25,
     "metadata": {},
     "output_type": "execute_result"
    },
    {
     "data": {
      "image/png": "[encoded data removed]",
      "text/plain": [
       "<Figure size 432x288 with 1 Axes>"
      ]
     },
     "metadata": {
      "needs_background": "light"
     },
     "output_type": "display_data"
    }
   ],
   "source": [
    "sum_deaths_per_month.plot()"
   ]
  },
  {
   "cell_type": "code",
   "execution_count": 14,
   "id": "ec11e099",
   "metadata": {},
   "outputs": [
    {
     "name": "stdout",
     "output_type": "stream",
     "text": [
      "month\n",
      "1     0\n",
      "2     1\n",
      "3     4\n",
      "4     1\n",
      "5     1\n",
      "6     0\n",
      "7     0\n",
      "8     0\n",
      "9     0\n",
      "10    0\n",
      "11    0\n",
      "12    0\n",
      "Name: deaths, dtype: int64\n"
     ]
    }
   ],
   "source": [
    "print(sum_deaths_per_month)"
   ]
  },
  {
   "cell_type": "markdown",
   "id": "70d6d797",
   "metadata": {},
   "source": [
    "The month with the highest number of deaths from COVID-19 was the third month, in which there were four deaths. The first five months of 2020 held a dramatic rise and fall of COVID-19 deaths, while in comparison to cases, there was a resurgence in late 2020. This data highly contrasts global data, in both the level of cases and deaths, which has demonstrated the effectiveness of Taiwan's strategy in combating COVID-19 in comparison to other nations. "
   ]
  },
  {
   "cell_type": "markdown",
   "id": "98450318",
   "metadata": {},
   "source": [
    "# Global Data in Comparison to Taiwan's Death Rates"
   ]
  },
  {
   "cell_type": "code",
   "execution_count": 23,
   "id": "362b04e1",
   "metadata": {
    "scrolled": true
   },
   "outputs": [
    {
     "data": {
      "text/plain": [
       "<AxesSubplot:xlabel='cases', ylabel='deaths'>"
      ]
     },
     "execution_count": 23,
     "metadata": {},
     "output_type": "execute_result"
    },
    {
     "data": {
      "image/png": "[encoded data removed]",
      "text/plain": [
       "<Figure size 432x288 with 2 Axes>"
      ]
     },
     "metadata": {
      "needs_background": "light"
     },
     "output_type": "display_data"
    }
   ],
   "source": [
    "df.plot.scatter(x='cases',y='deaths',c='month')"
   ]
  },
  {
   "cell_type": "markdown",
   "id": "464cf098",
   "metadata": {},
   "source": [
    "Global data demonstrates a trend of deaths occuring in high volumes compared to the number of cases. Taiwan was well under 1,000 deaths while many nations represented in this scatter plot consistently had deaths occur in the thousands. Not only that, but the longevity of the death rate held long past the first few months, unlike Taiwan, who had no deaths after the fifth month of 2020."
   ]
  },
  {
   "cell_type": "markdown",
   "id": "b1840b3f",
   "metadata": {},
   "source": [
    "# Conclusion and Further Inquiries"
   ]
  },
  {
   "cell_type": "markdown",
   "id": "e4e3a358",
   "metadata": {},
   "source": [
    "Compared to other nations who easily range within the thousands of deaths, and even higher numbers of cases, it is very apparent that Taiwan's quick response to COVID-19 allowed them to combat the pandemic in a quantifiable way. However, some questions still remain. Was the quick response time due to the increased awarness of the number of cases in Wuhan due to their close proximity? Was the quick response due to the previous magnitude of the SARS epidemic? Was the slow response from Western nations due to the distance from both China and the previous SARS epidemic? There also may be some gaps in evidence, as the data we have at hand only accounts confirmed cases and deaths, where as there may be some data that was lost due to a lack of reporting from citizens. "
   ]
  },
  {
   "cell_type": "markdown",
   "id": "2f7db664",
   "metadata": {},
   "source": [
    "# Sources"
   ]
  },
  {
   "cell_type": "markdown",
   "id": "d6d6c66c",
   "metadata": {},
   "source": [
    "1. “CDC Museum Covid-19 Timeline.” Centers for Disease Control and Prevention. Centers for Disease Control and Prevention, January 5, 2022. https://www.cdc.gov/museum/timeline/covid19.html#Early-2020. \n",
    "2.“- Taiwan Centers for Disease Control.” 中文版. Accessed May 2, 2022. https://www.cdc.gov.tw/en. \n",
    "3.“Covid-19 Response in Taiwan - Public Health Media Library.” Accessed May 2, 2022. https://tools.cdc.gov/podcasts/media/pdf/EID_07-20_COVID19_Taiwan.pdf. \n",
    "4.“Download Historical Data (to 14 December 2020) on the Daily Number of New Reported COVID-19 Cases and Deaths Worldwide.” European Centre for Disease Prevention and Control, December 14, 2020. https://www.ecdc.europa.eu/en/publications-data/download-todays-data-geographic-distribution-covid-19-cases-worldwide. "
   ]
  }
 ],
 "metadata": {
  "kernelspec": {
   "display_name": "conda_python3",
   "language": "python",
   "name": "conda_python3"
  },
  "language_info": {
   "codemirror_mode": {
    "name": "ipython",
    "version": 3
   },
   "file_extension": ".py",
   "mimetype": "text/x-python",
   "name": "python",
   "nbconvert_exporter": "python",
   "pygments_lexer": "ipython3",
   "version": "3.6.13"
  }
 },
 "nbformat": 4,
 "nbformat_minor": 5
}
